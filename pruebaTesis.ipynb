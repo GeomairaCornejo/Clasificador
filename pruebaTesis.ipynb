{
 "cells": [
  {
   "cell_type": "code",
   "execution_count": 1,
   "metadata": {},
   "outputs": [],
   "source": [
    "import pandas as pd"
   ]
  },
  {
   "cell_type": "code",
   "execution_count": 2,
   "metadata": {},
   "outputs": [
    {
     "data": {
      "text/html": [
       "<div>\n",
       "<style scoped>\n",
       "    .dataframe tbody tr th:only-of-type {\n",
       "        vertical-align: middle;\n",
       "    }\n",
       "\n",
       "    .dataframe tbody tr th {\n",
       "        vertical-align: top;\n",
       "    }\n",
       "\n",
       "    .dataframe thead th {\n",
       "        text-align: right;\n",
       "    }\n",
       "</style>\n",
       "<table border=\"1\" class=\"dataframe\">\n",
       "  <thead>\n",
       "    <tr style=\"text-align: right;\">\n",
       "      <th></th>\n",
       "      <th>Documento</th>\n",
       "      <th>Fecha</th>\n",
       "      <th>Texto</th>\n",
       "      <th>Categoria</th>\n",
       "    </tr>\n",
       "  </thead>\n",
       "  <tbody>\n",
       "    <tr>\n",
       "      <th>0</th>\n",
       "      <td>0</td>\n",
       "      <td>2021-01-02 00:00:00</td>\n",
       "      <td>Primero Emelec y cinco años después el hermano...</td>\n",
       "      <td>no pest</td>\n",
       "    </tr>\n",
       "    <tr>\n",
       "      <th>1</th>\n",
       "      <td>1</td>\n",
       "      <td>2021-01-03 00:00:00</td>\n",
       "      <td>#ElAgroTrabaja por el bienestar de los ecuator...</td>\n",
       "      <td>Social</td>\n",
       "    </tr>\n",
       "    <tr>\n",
       "      <th>2</th>\n",
       "      <td>2</td>\n",
       "      <td>2021-01-01 00:00:00</td>\n",
       "      <td>Es nuestro derecho a recibir a tiempo los recu...</td>\n",
       "      <td>Económico</td>\n",
       "    </tr>\n",
       "    <tr>\n",
       "      <th>3</th>\n",
       "      <td>3</td>\n",
       "      <td>2020-03-23 00:00:00</td>\n",
       "      <td>Sin distanciamiento Incumpliendo disposiciones...</td>\n",
       "      <td>Social</td>\n",
       "    </tr>\n",
       "    <tr>\n",
       "      <th>4</th>\n",
       "      <td>4</td>\n",
       "      <td>2021-01-03 00:00:00</td>\n",
       "      <td>Guayaquil | La Intendencia de Policía del Guay...</td>\n",
       "      <td>Social</td>\n",
       "    </tr>\n",
       "    <tr>\n",
       "      <th>...</th>\n",
       "      <td>...</td>\n",
       "      <td>...</td>\n",
       "      <td>...</td>\n",
       "      <td>...</td>\n",
       "    </tr>\n",
       "    <tr>\n",
       "      <th>1335</th>\n",
       "      <td>1336</td>\n",
       "      <td>2021-02-25 00:00:00</td>\n",
       "      <td>Malecón 2000 Music Night Disfruta de música en...</td>\n",
       "      <td>no pest</td>\n",
       "    </tr>\n",
       "    <tr>\n",
       "      <th>1336</th>\n",
       "      <td>1337</td>\n",
       "      <td>2020-12-02 00:00:00</td>\n",
       "      <td>vivieron emocionantes jornadas deportivas en c...</td>\n",
       "      <td>no pest</td>\n",
       "    </tr>\n",
       "    <tr>\n",
       "      <th>1337</th>\n",
       "      <td>1338</td>\n",
       "      <td>2021-02-24 00:00:00</td>\n",
       "      <td>Monumento a Spencer les dará la bienvenida al ...</td>\n",
       "      <td>no pest</td>\n",
       "    </tr>\n",
       "    <tr>\n",
       "      <th>1338</th>\n",
       "      <td>1339</td>\n",
       "      <td>2021-02-25 00:00:00</td>\n",
       "      <td>Renato Ibarra podría salir de Atlas, tras dife...</td>\n",
       "      <td>no pest</td>\n",
       "    </tr>\n",
       "    <tr>\n",
       "      <th>1339</th>\n",
       "      <td>1340</td>\n",
       "      <td>2021-02-25 00:00:00</td>\n",
       "      <td>La FIFA levantó la sanción a Deportivo Quito y...</td>\n",
       "      <td>no pest</td>\n",
       "    </tr>\n",
       "  </tbody>\n",
       "</table>\n",
       "<p>1340 rows × 4 columns</p>\n",
       "</div>"
      ],
      "text/plain": [
       "     Documento                Fecha  \\\n",
       "0            0  2021-01-02 00:00:00   \n",
       "1            1  2021-01-03 00:00:00   \n",
       "2            2  2021-01-01 00:00:00   \n",
       "3            3  2020-03-23 00:00:00   \n",
       "4            4  2021-01-03 00:00:00   \n",
       "...        ...                  ...   \n",
       "1335      1336  2021-02-25 00:00:00   \n",
       "1336      1337  2020-12-02 00:00:00   \n",
       "1337      1338  2021-02-24 00:00:00   \n",
       "1338      1339  2021-02-25 00:00:00   \n",
       "1339      1340  2021-02-25 00:00:00   \n",
       "\n",
       "                                                  Texto  Categoria  \n",
       "0     Primero Emelec y cinco años después el hermano...  no pest    \n",
       "1     #ElAgroTrabaja por el bienestar de los ecuator...     Social  \n",
       "2     Es nuestro derecho a recibir a tiempo los recu...  Económico  \n",
       "3     Sin distanciamiento Incumpliendo disposiciones...     Social  \n",
       "4     Guayaquil | La Intendencia de Policía del Guay...     Social  \n",
       "...                                                 ...        ...  \n",
       "1335  Malecón 2000 Music Night Disfruta de música en...  no pest    \n",
       "1336  vivieron emocionantes jornadas deportivas en c...  no pest    \n",
       "1337  Monumento a Spencer les dará la bienvenida al ...  no pest    \n",
       "1338  Renato Ibarra podría salir de Atlas, tras dife...  no pest    \n",
       "1339  La FIFA levantó la sanción a Deportivo Quito y...  no pest    \n",
       "\n",
       "[1340 rows x 4 columns]"
      ]
     },
     "execution_count": 2,
     "metadata": {},
     "output_type": "execute_result"
    }
   ],
   "source": [
    "path_file = \"DataSet-pest.xlsx\"\n",
    "col_types = {\"Documento\":str, \"Categoria\":str}\n",
    "df = pd.read_excel(path_file, dtype=col_types)\n",
    "df"
   ]
  },
  {
   "cell_type": "code",
   "execution_count": 3,
   "metadata": {},
   "outputs": [
    {
     "data": {
      "text/plain": [
       "array(['Documento', 'Fecha', 'Texto', 'Categoria'], dtype=object)"
      ]
     },
     "execution_count": 3,
     "metadata": {},
     "output_type": "execute_result"
    }
   ],
   "source": [
    "df.columns.values"
   ]
  },
  {
   "cell_type": "code",
   "execution_count": 4,
   "metadata": {},
   "outputs": [
    {
     "data": {
      "text/html": [
       "<div>\n",
       "<style scoped>\n",
       "    .dataframe tbody tr th:only-of-type {\n",
       "        vertical-align: middle;\n",
       "    }\n",
       "\n",
       "    .dataframe tbody tr th {\n",
       "        vertical-align: top;\n",
       "    }\n",
       "\n",
       "    .dataframe thead th {\n",
       "        text-align: right;\n",
       "    }\n",
       "</style>\n",
       "<table border=\"1\" class=\"dataframe\">\n",
       "  <thead>\n",
       "    <tr style=\"text-align: right;\">\n",
       "      <th></th>\n",
       "      <th>Texto</th>\n",
       "      <th>Categoria</th>\n",
       "      <th>category_id</th>\n",
       "    </tr>\n",
       "  </thead>\n",
       "  <tbody>\n",
       "    <tr>\n",
       "      <th>0</th>\n",
       "      <td>Primero Emelec y cinco años después el hermano...</td>\n",
       "      <td>no pest</td>\n",
       "      <td>0</td>\n",
       "    </tr>\n",
       "    <tr>\n",
       "      <th>1</th>\n",
       "      <td>#ElAgroTrabaja por el bienestar de los ecuator...</td>\n",
       "      <td>Social</td>\n",
       "      <td>1</td>\n",
       "    </tr>\n",
       "    <tr>\n",
       "      <th>2</th>\n",
       "      <td>Es nuestro derecho a recibir a tiempo los recu...</td>\n",
       "      <td>Económico</td>\n",
       "      <td>2</td>\n",
       "    </tr>\n",
       "    <tr>\n",
       "      <th>3</th>\n",
       "      <td>Sin distanciamiento Incumpliendo disposiciones...</td>\n",
       "      <td>Social</td>\n",
       "      <td>1</td>\n",
       "    </tr>\n",
       "    <tr>\n",
       "      <th>4</th>\n",
       "      <td>Guayaquil | La Intendencia de Policía del Guay...</td>\n",
       "      <td>Social</td>\n",
       "      <td>1</td>\n",
       "    </tr>\n",
       "  </tbody>\n",
       "</table>\n",
       "</div>"
      ],
      "text/plain": [
       "                                               Texto  Categoria  category_id\n",
       "0  Primero Emelec y cinco años después el hermano...  no pest              0\n",
       "1  #ElAgroTrabaja por el bienestar de los ecuator...     Social            1\n",
       "2  Es nuestro derecho a recibir a tiempo los recu...  Económico            2\n",
       "3  Sin distanciamiento Incumpliendo disposiciones...     Social            1\n",
       "4  Guayaquil | La Intendencia de Policía del Guay...     Social            1"
      ]
     },
     "execution_count": 4,
     "metadata": {},
     "output_type": "execute_result"
    }
   ],
   "source": [
    "from io import StringIO\n",
    "col = ['Texto', 'Categoria']\n",
    "df = df[col]\n",
    "df = df[pd.notnull(df['Categoria'])]\n",
    "\n",
    "df.columns = ['Texto', 'Categoria']\n",
    "\n",
    "df['category_id'] = df['Categoria'].factorize()[0]\n",
    "category_id_df = df[['Categoria', 'category_id']].drop_duplicates().sort_values('category_id')\n",
    "category_to_id = dict(category_id_df.values)\n",
    "id_to_category = dict(category_id_df[['category_id','Categoria']].values)\n",
    "\n",
    "df.head()\n"
   ]
  },
  {
   "cell_type": "code",
   "execution_count": 5,
   "metadata": {},
   "outputs": [
    {
     "data": {
      "image/png": "[encoded data removed]",
      "text/plain": [
       "<Figure size 576x432 with 1 Axes>"
      ]
     },
     "metadata": {
      "needs_background": "light"
     },
     "output_type": "display_data"
    }
   ],
   "source": [
    "import matplotlib.pyplot as plt\n",
    "fig = plt.figure(figsize=(8,6))\n",
    "df.groupby('Categoria').Texto.count().plot.bar(ylim=0)\n",
    "plt.show()\n"
   ]
  },
  {
   "cell_type": "code",
   "execution_count": 6,
   "metadata": {},
   "outputs": [
    {
     "data": {
      "text/plain": [
       "0       no pest  \n",
       "1          Social\n",
       "2       Económico\n",
       "3          Social\n",
       "4          Social\n",
       "5          Social\n",
       "6          Social\n",
       "7          Social\n",
       "8          Social\n",
       "9          Social\n",
       "10         Social\n",
       "11    Tecnológico\n",
       "12    Tecnológico\n",
       "13         Social\n",
       "14         Social\n",
       "15         Social\n",
       "16         Social\n",
       "17         Social\n",
       "18         Social\n",
       "19         Social\n",
       "Name: Categoria, dtype: object"
      ]
     },
     "execution_count": 6,
     "metadata": {},
     "output_type": "execute_result"
    }
   ],
   "source": [
    "df.Categoria[:20]"
   ]
  },
  {
   "cell_type": "code",
   "execution_count": 7,
   "metadata": {},
   "outputs": [
    {
     "data": {
      "text/plain": [
       "(1340, 1345)"
      ]
     },
     "execution_count": 7,
     "metadata": {},
     "output_type": "execute_result"
    }
   ],
   "source": [
    "from sklearn.feature_extraction.text import TfidfVectorizer\n",
    "from sklearn.feature_extraction.text import CountVectorizer\n",
    "from nltk.corpus import stopwords \n",
    "tfidf = TfidfVectorizer (sublinear_tf = True, min_df = 5,norm = 'l2', encoding = 'latin-1', ngram_range = (1, 2), stop_words = 'english')\n",
    "count_vect = CountVectorizer()\n",
    "# features = tfidf.fit_transform(df['Categoria']) .toarray()\n",
    "features = tfidf.fit_transform(df['Texto'].values.astype('U')) .toarray()\n",
    "labels = df.Categoria\n",
    "features.shape"
   ]
  },
  {
   "cell_type": "code",
   "execution_count": 8,
   "metadata": {},
   "outputs": [
    {
     "data": {
      "text/plain": [
       "(1340, 6525)"
      ]
     },
     "execution_count": 8,
     "metadata": {},
     "output_type": "execute_result"
    }
   ],
   "source": [
    "from sklearn.feature_extraction.text import CountVectorizer\n",
    "count_vect = CountVectorizer()\n",
    "X_train_counts = count_vect.fit_transform(df['Texto'].values.astype('U')) .toarray()\n",
    "X_train_counts.shape"
   ]
  },
  {
   "cell_type": "code",
   "execution_count": 9,
   "metadata": {},
   "outputs": [
    {
     "data": {
      "text/plain": [
       "(1340, 6525)"
      ]
     },
     "execution_count": 9,
     "metadata": {},
     "output_type": "execute_result"
    }
   ],
   "source": [
    "from sklearn.feature_extraction.text import TfidfTransformer\n",
    "tf_transformer = TfidfTransformer(use_idf=False).fit(X_train_counts)\n",
    "X_train_tf = tf_transformer.transform(X_train_counts)\n",
    "X_train_tf.shape"
   ]
  },
  {
   "cell_type": "code",
   "execution_count": 10,
   "metadata": {},
   "outputs": [],
   "source": [
    "from sklearn.naive_bayes import MultinomialNB\n",
    "\n",
    "clf = MultinomialNB().fit(features, df.Categoria)"
   ]
  },
  {
   "cell_type": "code",
   "execution_count": 11,
   "metadata": {},
   "outputs": [
    {
     "name": "stdout",
     "output_type": "stream",
     "text": [
      "# 'Económico':\n",
      " .La mayoría de los unigramas correlacionados:\n",
      ". elgobiernodetodos\n",
      ".último\n",
      " .Bigrams más correlacionados:\n",
      ". emergencia sanitaria\n",
      ".empleo para\n",
      "# 'Político':\n",
      " .La mayoría de los unigramas correlacionados:\n",
      ". elgobiernodetodos\n",
      ".último\n",
      " .Bigrams más correlacionados:\n",
      ". emergencia sanitaria\n",
      ".empleo para\n",
      "# 'Social':\n",
      " .La mayoría de los unigramas correlacionados:\n",
      ". elgobiernodetodos\n",
      ".último\n",
      " .Bigrams más correlacionados:\n",
      ". emergencia sanitaria\n",
      ".empleo para\n",
      "# 'Tecnológico':\n",
      " .La mayoría de los unigramas correlacionados:\n",
      ". elgobiernodetodos\n",
      ".último\n",
      " .Bigrams más correlacionados:\n",
      ". emergencia sanitaria\n",
      ".empleo para\n",
      "# 'no pest  ':\n",
      " .La mayoría de los unigramas correlacionados:\n",
      ". elgobiernodetodos\n",
      ".último\n",
      " .Bigrams más correlacionados:\n",
      ". emergencia sanitaria\n",
      ".empleo para\n"
     ]
    }
   ],
   "source": [
    "from sklearn.feature_selection import chi2\n",
    "import numpy as np\n",
    "\n",
    "N = 2\n",
    "for Categoria, category_id in sorted(category_to_id.items()):\n",
    "    features_chi2 = chi2(features, labels == category_id)\n",
    "    indices = np.argsort(features_chi2[0])\n",
    "    feature_names = np.array(tfidf.get_feature_names()) [indices]\n",
    "    unigrams = [v for v in feature_names if len(v.split(' ')) == 1]\n",
    "    bigrams = [v for v in feature_names if len(v.split(' ')) == 2]\n",
    "    print(\"# '{}':\".format(Categoria))\n",
    "    print(\" .La mayoría de los unigramas correlacionados:\\n. {}\".format('\\n.'.join(unigrams[-N:])))\n",
    "    print(\" .Bigrams más correlacionados:\\n. {}\".format('\\n.'.join(bigrams[-N:])))\n",
    "\n"
   ]
  },
  {
   "cell_type": "code",
   "execution_count": 12,
   "metadata": {},
   "outputs": [],
   "source": [
    "from sklearn.model_selection import train_test_split\n",
    "from sklearn.feature_extraction.text import CountVectorizer\n",
    "from sklearn.feature_extraction.text import TfidfTransformer\n",
    "from sklearn.naive_bayes import MultinomialNB\n",
    "\n",
    "X_train, X_test, y_train, y_test = train_test_split(df['Texto'], df['Categoria'],\n",
    "random_state = 0)\n",
    "count_vect = CountVectorizer()\n",
    "X_train_counts = count_vect.fit_transform(X_train)\n",
    "tfidf_transformer = TfidfTransformer()\n",
    "X_train_tfidf = tfidf_transformer.fit_transform(X_train_counts)\n",
    "\n",
    "clf = MultinomialNB().fit(X_train_tfidf, y_train)"
   ]
  },
  {
   "cell_type": "code",
   "execution_count": 14,
   "metadata": {},
   "outputs": [
    {
     "name": "stdout",
     "output_type": "stream",
     "text": [
      "['Social']\n"
     ]
    }
   ],
   "source": [
    "print(clf.predict(count_vect.transform([\" Gastronomía y deporte se fusionan en homenaje a las fiestas julianas \"])))"
   ]
  },
  {
   "cell_type": "code",
   "execution_count": 15,
   "metadata": {},
   "outputs": [
    {
     "name": "stdout",
     "output_type": "stream",
     "text": [
      "['Económico']\n"
     ]
    }
   ],
   "source": [
    "print(clf.predict(count_vect.transform([\" Banco Central: La economía ecuatoriana se contrajo 12,4 % en el segundo trimestre de 2020\"])))"
   ]
  },
  {
   "cell_type": "code",
   "execution_count": 16,
   "metadata": {},
   "outputs": [
    {
     "name": "stdout",
     "output_type": "stream",
     "text": [
      "['Político']\n"
     ]
    }
   ],
   "source": [
    "print(clf.predict(count_vect.transform([\" Candidato Andrés Arauz lidera intención de voto en Ecuador \"])))"
   ]
  },
  {
   "cell_type": "code",
   "execution_count": 20,
   "metadata": {},
   "outputs": [
    {
     "name": "stdout",
     "output_type": "stream",
     "text": [
      "['Tecnológico']\n"
     ]
    }
   ],
   "source": [
    "print(clf.predict(count_vect.transform([\" comercio electrónico \"])))"
   ]
  },
  {
   "cell_type": "code",
   "execution_count": 34,
   "metadata": {},
   "outputs": [
    {
     "name": "stdout",
     "output_type": "stream",
     "text": [
      "['Social']\n"
     ]
    }
   ],
   "source": [
    "print(clf.predict(count_vect.transform([\" La ONU y la CIDH piden respuestas del Estado por masacre en cárceles; 33 colectivos hacen siete pedidos \"])))"
   ]
  },
  {
   "cell_type": "code",
   "execution_count": 35,
   "metadata": {},
   "outputs": [
    {
     "name": "stdout",
     "output_type": "stream",
     "text": [
      "['Económico']\n"
     ]
    }
   ],
   "source": [
    "print(clf.predict(count_vect.transform([\" Inversión extranjera directa cae un 42 % durante la pandemia, son $107 millones menos que entraron a Ecuador \"])))"
   ]
  },
  {
   "cell_type": "code",
   "execution_count": 36,
   "metadata": {},
   "outputs": [
    {
     "name": "stdout",
     "output_type": "stream",
     "text": [
      "['Económico']\n"
     ]
    }
   ],
   "source": [
    "print(clf.predict(count_vect.transform([\" Sector turístico impulsa plataforma digital para incentivar viajes internos \"])))"
   ]
  },
  {
   "cell_type": "code",
   "execution_count": 19,
   "metadata": {},
   "outputs": [
    {
     "name": "stdout",
     "output_type": "stream",
     "text": [
      "['Político']\n"
     ]
    }
   ],
   "source": [
    "print(clf.predict(count_vect.transform([\" Distrito de Salud entrega reconocimiento como Establecimientos 100% Libres de Humo de Tabaco a las instituciones públicas: Jefatura Política y Consejo de Protección de Derechos de Nobol, y  Jefatura política, Dinapen y Consejo de Segurida Ciudadana del cantón Daule. \"])))"
   ]
  },
  {
   "cell_type": "code",
   "execution_count": 13,
   "metadata": {
    "scrolled": true
   },
   "outputs": [
    {
     "data": {
      "image/png": "[encoded data removed]",
      "text/plain": [
       "<Figure size 640x560 with 1 Axes>"
      ]
     },
     "metadata": {
      "needs_background": "light"
     },
     "output_type": "display_data"
    }
   ],
   "source": [
    "from sklearn.linear_model import LogisticRegression\n",
    "from sklearn.ensemble import RandomForestClassifier\n",
    "from sklearn.svm import LinearSVC\n",
    "from sklearn.svm import SVC\n",
    "from sklearn.model_selection import cross_val_score\n",
    "\n",
    "models = [\n",
    "    RandomForestClassifier(n_estimators=200, max_depth=3, \n",
    "random_state=0),\n",
    "         LinearSVC(),\n",
    "         MultinomialNB(),\n",
    "         LogisticRegression(random_state=0),\n",
    "    SVC(gamma=2,C=1)\n",
    "]\n",
    "CV = 5\n",
    "cv_df = pd.DataFrame(index=range(CV * len(models)))\n",
    "entries = []\n",
    "for model in models:\n",
    "    model_name =model.__class__.__name__\n",
    "    accuracies = cross_val_score(model, features, labels, scoring='accuracy', cv=CV)\n",
    "    for fold_idx, accuracy in enumerate (accuracies):\n",
    "        entries.append((model_name, fold_idx, accuracy))\n",
    "    cv_df = pd.DataFrame(entries, columns=['model_name','fold_idx','accuracy'])\n",
    "    \n",
    "import seaborn as sns\n",
    "import matplotlib.pyplot as plt\n",
    "w = 8\n",
    "h = 7\n",
    "d = 80\n",
    "\n",
    "plt.figure(figsize=(w,h), dpi=d)\n",
    "sns.boxplot(x='model_name', y='accuracy', data=cv_df, width=0.9, fliersize=4, linewidth=2.5, whis= 4.6)\n",
    "sns.stripplot(x='model_name', y='accuracy', data=cv_df, size=8, jitter=True, edgecolor=\"gray\", linewidth=2)\n",
    "\n",
    "plt.show()"
   ]
  },
  {
   "cell_type": "code",
   "execution_count": 14,
   "metadata": {},
   "outputs": [
    {
     "data": {
      "text/plain": [
       "model_name\n",
       "LinearSVC                 0.608209\n",
       "LogisticRegression        0.591791\n",
       "MultinomialNB             0.602985\n",
       "RandomForestClassifier    0.446269\n",
       "SVC                       0.551493\n",
       "Name: accuracy, dtype: float64"
      ]
     },
     "execution_count": 14,
     "metadata": {},
     "output_type": "execute_result"
    }
   ],
   "source": [
    "cv_df.groupby('model_name').accuracy.mean()"
   ]
  },
  {
   "cell_type": "code",
   "execution_count": 15,
   "metadata": {
    "scrolled": false
   },
   "outputs": [
    {
     "data": {
      "image/png": "[encoded data removed]",
      "text/plain": [
       "<Figure size 720x720 with 2 Axes>"
      ]
     },
     "metadata": {
      "needs_background": "light"
     },
     "output_type": "display_data"
    }
   ],
   "source": [
    "#Matriz de confusión\n",
    "model = LinearSVC()\n",
    "\n",
    "X_train, X_test, y_train, y_test, indices_train, indices_test = train_test_split(features, labels, df.index, test_size=0.33,\n",
    "random_state=0)\n",
    "model.fit(X_train, y_train)\n",
    "y_pred = model.predict(X_test)\n",
    "\n",
    "from sklearn.metrics import confusion_matrix\n",
    "conf_mat = confusion_matrix(y_test, y_pred)\n",
    "fig, ax = plt.subplots(figsize=(10,10))\n",
    "sns.heatmap(conf_mat, annot=True, fmt='d',\n",
    "           xticklabels=category_id_df.Categoria.values,\n",
    "yticklabels=category_id_df.Categoria.values)\n",
    "plt.ylabel('Actual')\n",
    "plt.xlabel('Predicted')\n",
    "plt.show()"
   ]
  },
  {
   "cell_type": "code",
   "execution_count": 16,
   "metadata": {},
   "outputs": [
    {
     "name": "stdout",
     "output_type": "stream",
     "text": [
      "              precision    recall  f1-score   support\n",
      "\n",
      "   no pest         0.69      0.68      0.68       102\n",
      "      Social       0.76      0.71      0.73       123\n",
      "   Económico       0.66      0.83      0.73       146\n",
      " Tecnológico       0.57      0.42      0.48        38\n",
      "    Político       0.71      0.35      0.47        34\n",
      "\n",
      "    accuracy                           0.69       443\n",
      "   macro avg       0.68      0.60      0.62       443\n",
      "weighted avg       0.69      0.69      0.68       443\n",
      "\n"
     ]
    }
   ],
   "source": [
    "from sklearn import metrics\n",
    "print(metrics.classification_report(y_test, y_pred, target_names=df['Categoria'].unique()))"
   ]
  },
  {
   "cell_type": "code",
   "execution_count": 18,
   "metadata": {},
   "outputs": [
    {
     "data": {
      "text/plain": [
       "(443, 1345)"
      ]
     },
     "execution_count": 18,
     "metadata": {},
     "output_type": "execute_result"
    }
   ],
   "source": [
    "X_test.shape"
   ]
  },
  {
   "cell_type": "code",
   "execution_count": 132,
   "metadata": {},
   "outputs": [],
   "source": []
  },
  {
   "cell_type": "code",
   "execution_count": null,
   "metadata": {},
   "outputs": [],
   "source": []
  },
  {
   "cell_type": "code",
   "execution_count": null,
   "metadata": {},
   "outputs": [],
   "source": []
  },
  {
   "cell_type": "code",
   "execution_count": null,
   "metadata": {},
   "outputs": [],
   "source": []
  },
  {
   "cell_type": "code",
   "execution_count": null,
   "metadata": {},
   "outputs": [],
   "source": []
  },
  {
   "cell_type": "code",
   "execution_count": null,
   "metadata": {},
   "outputs": [],
   "source": []
  },
  {
   "cell_type": "code",
   "execution_count": 110,
   "metadata": {},
   "outputs": [],
   "source": []
  },
  {
   "cell_type": "code",
   "execution_count": null,
   "metadata": {},
   "outputs": [],
   "source": []
  },
  {
   "cell_type": "code",
   "execution_count": null,
   "metadata": {},
   "outputs": [],
   "source": []
  },
  {
   "cell_type": "code",
   "execution_count": null,
   "metadata": {},
   "outputs": [],
   "source": []
  },
  {
   "cell_type": "code",
   "execution_count": null,
   "metadata": {},
   "outputs": [],
   "source": []
  }
 ],
 "metadata": {
  "kernelspec": {
   "display_name": "Python 3",
   "language": "python",
   "name": "python3"
  },
  "language_info": {
   "codemirror_mode": {
    "name": "ipython",
    "version": 3
   },
   "file_extension": ".py",
   "mimetype": "text/x-python",
   "name": "python",
   "nbconvert_exporter": "python",
   "pygments_lexer": "ipython3",
   "version": "3.8.5"
  }
 },
 "nbformat": 4,
 "nbformat_minor": 4
}
